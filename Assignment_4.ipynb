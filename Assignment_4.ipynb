{
 "cells": [
  {
   "cell_type": "markdown",
   "metadata": {},
   "source": [
    "GRPH"
   ]
  },
  {
   "cell_type": "code",
   "execution_count": 14,
   "metadata": {},
   "outputs": [
    {
     "name": "stdout",
     "output_type": "stream",
     "text": [
      "Rosalind_0498 Rosalind_2391\n",
      "Rosalind_0498 Rosalind_0442\n",
      "Rosalind_2391 Rosalind_2323\n"
     ]
    }
   ],
   "source": [
    "def fasta_to_dict(fasta_file):\n",
    "    sequence = {}\n",
    "    label = None\n",
    "    with open(fasta_file, 'r') as file:\n",
    "        for line in file:\n",
    "            line = line.strip()\n",
    "            if line.startswith(\">\"):\n",
    "                label = line[1:]\n",
    "                sequence[label] = \"\"\n",
    "            else:\n",
    "                sequence[label] += line\n",
    "        return sequence\n",
    "\n",
    "def overlay_graph(sequence, k=3):\n",
    "    adj_list = []\n",
    "    for s_label, s in sequence.items():\n",
    "        for t_label, t in sequence.items():\n",
    "            if s_label != t_label and s[len(s) - k:] == t[:k]:\n",
    "                adj_list.append((s_label, t_label))\n",
    "    \n",
    "    for edge in adj_list:\n",
    "        print(edge[0], edge[1])\n",
    "\n",
    "\n",
    "overlay_graph(fasta_to_dict('grph.fasta.txt'))\n",
    "\n"
   ]
  },
  {
   "cell_type": "markdown",
   "metadata": {},
   "source": [
    "TREE"
   ]
  },
  {
   "cell_type": "code",
   "execution_count": 36,
   "metadata": {},
   "outputs": [
    {
     "name": "stdout",
     "output_type": "stream",
     "text": [
      "3\n"
     ]
    }
   ],
   "source": [
    "def completing_a_tree(start,graph):\n",
    "    visited = []\n",
    "    stack = []\n",
    "\n",
    "    stack.append(start)\n",
    "    while stack:\n",
    "        node = stack.pop()\n",
    "        if node not in visited:\n",
    "            visited.append(node)\n",
    "            made.append(node)\n",
    "            stack.extend(graph[node])\n",
    "    return visited\n",
    "        \n",
    "\n",
    "with open(r'tree.txt','r') as file:\n",
    "    n = int(next(file).rstrip())\n",
    "    graph = [[] for i in range(n + 1)]\n",
    "    for i in file:\n",
    "        a, b = map(int,(i.rstrip()).split())\n",
    "        graph[a] += [b]\n",
    "        graph[b] += [a]\n",
    "\n",
    "\n",
    "global made\n",
    "made = []\n",
    "\n",
    "path = 0\n",
    "for k in range(1, n + 1):\n",
    "    if k not in made:\n",
    "        path += 1\n",
    "        completing_a_tree(k,graph)\n",
    "print(path-1)\n"
   ]
  },
  {
   "cell_type": "markdown",
   "metadata": {},
   "source": [
    "LONG"
   ]
  },
  {
   "cell_type": "code",
   "execution_count": 39,
   "metadata": {},
   "outputs": [
    {
     "name": "stdout",
     "output_type": "stream",
     "text": [
      "ATTAGACCTGCCGGAATAC\n"
     ]
    }
   ],
   "source": [
    "from Bio import SeqIO\n",
    "\n",
    "def genome_assembly(strings, superstring=''):\n",
    "     if len(strings) == 0:\n",
    "        return superstring\n",
    "     elif len(superstring) == 0:\n",
    "         superstring = strings.pop(0)\n",
    "         return genome_assembly(strings, superstring)\n",
    "     else:\n",
    "         for current_read_index in range(len(strings)):\n",
    "             current_read = strings[current_read_index]\n",
    "             current_read_lenght = len(current_read)\n",
    "            \n",
    "             for p in range(current_read_lenght // 2):\n",
    "                 q = current_read_lenght - p\n",
    "\n",
    "                 if superstring.startswith(current_read[p:]):\n",
    "                     strings.pop(current_read_index)\n",
    "                     return genome_assembly(strings, current_read[:p] + superstring)\n",
    "                 if superstring.endswith(current_read[:q]):\n",
    "                     strings.pop(current_read_index)\n",
    "                     return genome_assembly(strings, superstring + current_read[q:])\n",
    "                 \n",
    "sequence = []\n",
    "for record in SeqIO.parse('long.fasta.txt','fasta'):\n",
    "    sequence.append(str(record.seq))\n",
    "\n",
    "print(genome_assembly(sequence))"
   ]
  },
  {
   "cell_type": "markdown",
   "metadata": {},
   "source": [
    "DEG"
   ]
  },
  {
   "cell_type": "code",
   "execution_count": 81,
   "metadata": {},
   "outputs": [
    {
     "name": "stdout",
     "output_type": "stream",
     "text": [
      "2 4 2 2 2 2\n"
     ]
    }
   ],
   "source": [
    "def calculate_degrees(n, edges):\n",
    "    degrees = [0] * (n + 1)\n",
    "    for u, v in edges:\n",
    "        degrees[u] += 1\n",
    "        degrees[v] += 1\n",
    "    return degrees[1:]\n",
    "\n",
    "def read_graph_from_file(filename):\n",
    "    with open(filename, 'r') as file:\n",
    "        n, m = map(int, file.readline().strip().split())\n",
    "        edges = []\n",
    "\n",
    "        for _ in range(m):\n",
    "            u, v = map(int, file.readline().strip().split())\n",
    "            edges.append((u, v))\n",
    "            \n",
    "        return n, edges\n",
    "\n",
    "def solve(filename):\n",
    "    n, edges = read_graph_from_file(filename)\n",
    "    result = calculate_degrees(n, edges)\n",
    "    \n",
    "    return result\n",
    "\n",
    "filename = \"input.txt\"\n",
    "print(*solve('deg.txt'))"
   ]
  },
  {
   "cell_type": "markdown",
   "metadata": {},
   "source": [
    "DDEG"
   ]
  },
  {
   "cell_type": "code",
   "execution_count": 80,
   "metadata": {},
   "outputs": [
    {
     "name": "stdout",
     "output_type": "stream",
     "text": [
      "3 5 5 5 0\n"
     ]
    }
   ],
   "source": [
    "from collections import defaultdict\n",
    "\n",
    "def calculate_neighbor_degrees(n, edges):\n",
    "    graph = defaultdict(list)\n",
    "    degrees = [0] * (n + 1)\n",
    "    \n",
    "    for u, v in edges:\n",
    "        graph[u].append(v)\n",
    "        graph[v].append(u)\n",
    "        degrees[u] += 1\n",
    "        degrees[v] += 1\n",
    "    \n",
    "    result = [0] * (n + 1)\n",
    "    for vertex in range(1, n + 1):\n",
    "        neighbor_sum = sum(degrees[neighbor] for neighbor in graph[vertex])\n",
    "        result[vertex] = neighbor_sum\n",
    "    \n",
    "    return result[1:]\n",
    "\n",
    "def read_graph_from_file(filename):\n",
    "    with open(filename, 'r') as file:\n",
    "        n, m = map(int, file.readline().strip().split())\n",
    "        edges = []\n",
    "        for _ in range(m):\n",
    "            u, v = map(int, file.readline().strip().split())\n",
    "            edges.append((u, v))\n",
    "            \n",
    "        return n, edges\n",
    "\n",
    "def solve(filename):\n",
    "    n, edges = read_graph_from_file(filename)\n",
    "    result = calculate_neighbor_degrees(n, edges)\n",
    "\n",
    "    return result\n",
    "\n",
    "filename = \"input.txt\"\n",
    "print(*solve('ddeg.txt'))"
   ]
  },
  {
   "cell_type": "markdown",
   "metadata": {},
   "source": [
    "CC"
   ]
  },
  {
   "cell_type": "code",
   "execution_count": 47,
   "metadata": {},
   "outputs": [
    {
     "name": "stdout",
     "output_type": "stream",
     "text": [
      "3\n"
     ]
    }
   ],
   "source": [
    "\n",
    "file = open('cc.txt', 'r')\n",
    "vertice, edge = map(int, file.readline().strip().split(' '))\n",
    "\n",
    "graph = {i + 1: [] for i in range(vertice)}\n",
    "for line in file:\n",
    "    lp = list(map(int, line.strip().split(' ')))\n",
    "    graph[lp[0]].append(lp[1])\n",
    "    graph[lp[1]].append(lp[0])\n",
    "file.close()\n",
    "\n",
    "\n",
    "    \n",
    "def dfs(cc, v, visited):\n",
    "    visited[v] = True\n",
    "    cc.append(v)\n",
    "    for i in graph[v]:\n",
    "        if visited[i] == False:\n",
    "            cc = dfs(cc, i, visited)\n",
    "    return cc\n",
    "\n",
    "visited = [False for i in range(vertice+1)]\n",
    "connected_components = []\n",
    "for v in range(1, int(vertice)+1):\n",
    "    if visited[v] == False:\n",
    "        cc = []\n",
    "        connected_components.append(dfs(cc, v, visited))\n",
    "\n",
    "\n",
    "print(len(connected_components))"
   ]
  },
  {
   "cell_type": "markdown",
   "metadata": {},
   "source": [
    "BFS"
   ]
  },
  {
   "cell_type": "code",
   "execution_count": 52,
   "metadata": {},
   "outputs": [
    {
     "name": "stdout",
     "output_type": "stream",
     "text": [
      "0 -1 2 1 3 2\n"
     ]
    }
   ],
   "source": [
    "import networkx as nx\n",
    "\n",
    "def bfs(filename):\n",
    "    with open(filename, 'r') as file:\n",
    "        lines = file.readlines()\n",
    "    vertice, edge = map(int, lines[0].strip().split())\n",
    "    edges = [tuple(map(int, line.strip().split())) for line in lines[1:]]\n",
    "\n",
    "    G = nx.DiGraph()\n",
    "    G.add_edges_from(edges)\n",
    "    distances = [-1] * (vertice + 1)\n",
    "    \n",
    "    if 1 in G:\n",
    "        distances[1] = 0\n",
    "        for target, dist in nx.single_source_shortest_path_length(G, source=1).items():\n",
    "            distances[target] = dist\n",
    "    \n",
    "    return distances[1:]\n",
    "    \n",
    "\n",
    "print(*bfs('bfs.txt'))"
   ]
  },
  {
   "cell_type": "markdown",
   "metadata": {},
   "source": [
    "DIJ"
   ]
  },
  {
   "cell_type": "code",
   "execution_count": 62,
   "metadata": {},
   "outputs": [
    {
     "name": "stdout",
     "output_type": "stream",
     "text": [
      "0 3 2 5 6 -1\n"
     ]
    }
   ],
   "source": [
    "import networkx as nx\n",
    "\n",
    "def Dijkstra_algorithm(filename):\n",
    "    with open(filename, 'r') as file:\n",
    "        lines = file.readlines()\n",
    "    n, m = map(int, lines[0].strip().split())\n",
    "\n",
    "    G = nx.DiGraph()\n",
    "    for line in lines[1:]:\n",
    "        u, v, w = map(int, line.strip().split())\n",
    "        G.add_edge(u, v, weight=w)\n",
    "    distances = [-1] * (n + 1)\n",
    "   \n",
    "    if 1 in G:\n",
    "        dijkstra_result = nx.single_source_dijkstra_path_length(G, source=1, weight='weight')\n",
    "        for node, distance in dijkstra_result.items():\n",
    "            distances[node] = distance\n",
    "    return distances[1:] \n",
    "\n",
    "print(*Dijkstra_algorithm('dij.txt'))\n",
    "    "
   ]
  },
  {
   "cell_type": "markdown",
   "metadata": {},
   "source": [
    "DAG"
   ]
  },
  {
   "cell_type": "code",
   "execution_count": 59,
   "metadata": {},
   "outputs": [
    {
     "name": "stdout",
     "output_type": "stream",
     "text": [
      "1 -1 1\n"
     ]
    }
   ],
   "source": [
    "import networkx as nx\n",
    "\n",
    "def testing_acyclicity(filename):\n",
    "    with open(filename, 'r') as file:\n",
    "        lines = file.readlines()\n",
    "    \n",
    "    results = []\n",
    "    index = 0\n",
    "    x = int(lines[index].strip())\n",
    "    index += 1\n",
    "    \n",
    "    for _ in range(x):\n",
    "        vertices, edges = map(int, lines[index].strip().split())\n",
    "        index += 1\n",
    "        edge_list = []\n",
    "        for _ in range(edges):\n",
    "            edge_list.append(tuple(map(int, lines[index].strip().split())))\n",
    "            index += 1\n",
    "\n",
    "        G = nx.DiGraph()\n",
    "        G.add_edges_from(edge_list)\n",
    "\n",
    "        if nx.is_directed_acyclic_graph(G):\n",
    "            results.append(\"1\")\n",
    "        else:\n",
    "            results.append(\"-1\")\n",
    "    \n",
    "    return results\n",
    "\n",
    "print(*testing_acyclicity('dag.txt'))"
   ]
  },
  {
   "cell_type": "markdown",
   "metadata": {},
   "source": [
    "BIP"
   ]
  },
  {
   "cell_type": "code",
   "execution_count": 63,
   "metadata": {},
   "outputs": [
    {
     "name": "stdout",
     "output_type": "stream",
     "text": [
      "-1 1\n"
     ]
    }
   ],
   "source": [
    "import networkx as nx\n",
    "\n",
    "def testing_bipartiteness(filename):\n",
    "    with open(filename, 'r') as file:\n",
    "        lines = file.readlines()\n",
    "    \n",
    "    results = []\n",
    "    index = 0\n",
    "    x = int(lines[index].strip())\n",
    "    index += 1\n",
    "\n",
    "    for _ in range(x):\n",
    "        vertices, edges = map(int, lines[index].strip().split())\n",
    "        index += 1\n",
    "        G = nx.Graph()\n",
    "        for _ in range(edges):\n",
    "            u, v = map(int, lines[index].strip().split())\n",
    "            G.add_edge(u, v)\n",
    "            index += 1\n",
    "\n",
    "        if nx.is_bipartite(G):\n",
    "            results.append(\"1\")\n",
    "        else:\n",
    "            results.append(\"-1\")\n",
    "\n",
    "    return results\n",
    "\n",
    "print(*testing_bipartiteness('bip.txt'))"
   ]
  },
  {
   "cell_type": "markdown",
   "metadata": {},
   "source": [
    "BF"
   ]
  },
  {
   "cell_type": "code",
   "execution_count": 76,
   "metadata": {},
   "outputs": [
    {
     "name": "stdout",
     "output_type": "stream",
     "text": [
      "0 5 5 6 9 7 9 8 x\n"
     ]
    }
   ],
   "source": [
    "import sys\n",
    "\n",
    "def bellman_ford(n, edges):\n",
    "    distances = [float('inf')] * (n + 1)\n",
    "    distances[1] = 0  \n",
    "    for _ in range(n - 1):\n",
    "        for u, v, w in edges:\n",
    "            if distances[u] != float('inf') and distances[u] + w < distances[v]:\n",
    "                distances[v] = distances[u] + w\n",
    "    \n",
    "    result = ['x' if d == float('inf') else d for d in distances[1:]]\n",
    "    return result\n",
    "\n",
    "def read_graph_from_file(filename):\n",
    "    with open(filename, 'r') as file:\n",
    "        n, m = map(int, file.readline().strip().split())\n",
    "        edges = []\n",
    "        for _ in range(m):\n",
    "            u, v, w = map(int, file.readline().strip().split())\n",
    "            edges.append((u, v, w))\n",
    "            \n",
    "        return n, edges\n",
    "\n",
    "def solve(filename):\n",
    "    n, edges = read_graph_from_file(filename)\n",
    "    result = bellman_ford(n, edges)\n",
    "    \n",
    "    return result\n",
    "\n",
    "print(*solve('bf.txt'))"
   ]
  },
  {
   "cell_type": "markdown",
   "metadata": {},
   "source": [
    "CTE"
   ]
  },
  {
   "cell_type": "code",
   "execution_count": null,
   "metadata": {},
   "outputs": [],
   "source": []
  },
  {
   "cell_type": "markdown",
   "metadata": {},
   "source": [
    "NWC"
   ]
  },
  {
   "cell_type": "code",
   "execution_count": 75,
   "metadata": {},
   "outputs": [
    {
     "name": "stdout",
     "output_type": "stream",
     "text": [
      "-1 1\n"
     ]
    }
   ],
   "source": [
    "def negative_weight_cycle(n, edges):\n",
    "     distances = [float('inf')] * (n + 1)\n",
    "     distances[1] = 0 \n",
    "    \n",
    "     for _ in range(n - 1):\n",
    "        for u, v, w in edges:\n",
    "            if distances[u] != float('inf') and distances[u] + w < distances[v]:\n",
    "                distances[v] = distances[u] + w\n",
    "     for u, v, w in edges:\n",
    "        if distances[u] != float('inf') and distances[u] + w < distances[v]:\n",
    "            return \"1\"\n",
    "            \n",
    "     return \"-1\"\n",
    "\n",
    "def read_input_from_file(filename):\n",
    "    with open(filename, 'r') as file:\n",
    "        k = int(file.readline().strip())\n",
    "        test_cases = []\n",
    "        \n",
    "        for _ in range(k):\n",
    "            line = file.readline().strip()\n",
    "            while not line:\n",
    "                line = file.readline().strip()\n",
    "            \n",
    "            n, m = map(int, line.split())\n",
    "            edges = []\n",
    "            for __ in range(m):\n",
    "                u, v, w = map(int, file.readline().strip().split())\n",
    "                edges.append((u, v, w))\n",
    "                \n",
    "            test_cases.append((n, edges))\n",
    "            \n",
    "        return test_cases\n",
    "\n",
    "def solve(filename):\n",
    "    test_cases = read_input_from_file(filename)\n",
    "\n",
    "    results = []\n",
    "    for n, edges in test_cases:\n",
    "        result = negative_weight_cycle(n, edges)\n",
    "        results.append(result)\n",
    "    \n",
    "    return results\n",
    "\n",
    "\n",
    "\n",
    "filename = \"nwc.txt\"\n",
    "print(*solve(filename))"
   ]
  },
  {
   "cell_type": "markdown",
   "metadata": {},
   "source": [
    "SDAG"
   ]
  },
  {
   "cell_type": "code",
   "execution_count": 79,
   "metadata": {},
   "outputs": [
    {
     "name": "stdout",
     "output_type": "stream",
     "text": [
      "0 x -4 -2 -3\n"
     ]
    }
   ],
   "source": [
    "import networkx as nx\n",
    "\n",
    "def dag_shortest_path(filename):\n",
    "    with open(filename, 'r') as file:\n",
    "        lines = file.readlines()\n",
    "\n",
    "    n, m = map(int, lines[0].strip().split())\n",
    "    G = nx.DiGraph()\n",
    "\n",
    "    for line in lines[1:]:\n",
    "        u, v, w = map(int, line.strip().split())\n",
    "        G.add_edge(u, v, weight=w)\n",
    "    topo_order = list(nx.topological_sort(G))\n",
    "\n",
    "   \n",
    "    distances = ['x'] * n\n",
    "    distances[0] = 0  \n",
    "    for node in topo_order:\n",
    "        if distances[node - 1] != 'x':\n",
    "            for neighbor in G.neighbors(node):\n",
    "                edge_weight = G[node][neighbor]['weight']\n",
    "                if distances[neighbor - 1] == 'x' or distances[neighbor - 1] > distances[node - 1] + edge_weight:\n",
    "                    distances[neighbor - 1] = distances[node - 1] + edge_weight\n",
    "\n",
    "    return distances\n",
    "\n",
    "print(*dag_shortest_path('sdag.txt'))"
   ]
  }
 ],
 "metadata": {
  "kernelspec": {
   "display_name": "Python 3",
   "language": "python",
   "name": "python3"
  },
  "language_info": {
   "codemirror_mode": {
    "name": "ipython",
    "version": 3
   },
   "file_extension": ".py",
   "mimetype": "text/x-python",
   "name": "python",
   "nbconvert_exporter": "python",
   "pygments_lexer": "ipython3",
   "version": "3.11.9"
  }
 },
 "nbformat": 4,
 "nbformat_minor": 2
}
